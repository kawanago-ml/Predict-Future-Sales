{
 "cells": [
  {
   "cell_type": "code",
   "execution_count": 1,
   "id": "6a21d3df-6a14-4214-98fa-3a05915cdf62",
   "metadata": {},
   "outputs": [],
   "source": [
    "import numpy as np\n",
    "import pandas as pd\n",
    "import matplotlib.pyplot as plt"
   ]
  },
  {
   "cell_type": "code",
   "execution_count": 2,
   "id": "4b3b26fc-df8c-4cb2-8358-45462a3a1b1c",
   "metadata": {},
   "outputs": [],
   "source": [
    "item_ctg = pd.read_csv(\"./item_categories.csv\")\n",
    "items = pd.read_csv(\"./items.csv\")\n",
    "train = pd.read_csv(\"./sales_train.csv\")\n",
    "shops = pd.read_csv(\"./shops.csv\")\n",
    "test = pd.read_csv(\"./test.csv\")"
   ]
  },
  {
   "cell_type": "code",
   "execution_count": 3,
   "id": "90036337-2966-4ba5-816a-e3324719bd73",
   "metadata": {},
   "outputs": [],
   "source": [
    "train[\"date\"] = pd.to_datetime(train.date, format=\"%d.%m.%Y\")"
   ]
  },
  {
   "cell_type": "code",
   "execution_count": 4,
   "id": "d090917a-6e13-418f-9833-2def0728c0d0",
   "metadata": {},
   "outputs": [],
   "source": [
    "train = train.sort_values(\"date\")"
   ]
  },
  {
   "cell_type": "code",
   "execution_count": 5,
   "id": "ded60a70-a94d-4def-9838-255db5ac2376",
   "metadata": {},
   "outputs": [],
   "source": [
    "train[\"date_sales\"] = train[\"item_price\"] * train[\"item_cnt_day\"]"
   ]
  },
  {
   "cell_type": "code",
   "execution_count": null,
   "id": "029fbcd1-b3cd-4686-924d-0fb3368670e0",
   "metadata": {},
   "outputs": [],
   "source": []
  },
  {
   "cell_type": "code",
   "execution_count": null,
   "id": "ff83e0c4-f84d-4828-91f6-5d2c82e1084a",
   "metadata": {},
   "outputs": [],
   "source": []
  },
  {
   "cell_type": "code",
   "execution_count": null,
   "id": "7f951e18-4caf-406a-80f7-3834c88f3f1d",
   "metadata": {},
   "outputs": [],
   "source": []
  },
  {
   "cell_type": "code",
   "execution_count": null,
   "id": "148d3e2e-79f7-4bd7-b5f4-9c7c18691b6a",
   "metadata": {},
   "outputs": [],
   "source": []
  },
  {
   "cell_type": "code",
   "execution_count": null,
   "id": "3cfccfaa-eadc-4bba-99c1-3a37f2781544",
   "metadata": {},
   "outputs": [],
   "source": []
  },
  {
   "cell_type": "code",
   "execution_count": null,
   "id": "9ff8147a-6ba7-4944-9c71-4a929053e801",
   "metadata": {},
   "outputs": [],
   "source": []
  },
  {
   "cell_type": "code",
   "execution_count": null,
   "id": "40f6acff-2e51-41ee-aa45-5ac6ac3cbe57",
   "metadata": {},
   "outputs": [],
   "source": []
  },
  {
   "cell_type": "code",
   "execution_count": null,
   "id": "d02991f0-3934-486a-84fd-9c9a959ab0e5",
   "metadata": {},
   "outputs": [],
   "source": []
  },
  {
   "cell_type": "code",
   "execution_count": null,
   "id": "3f59e7da-2999-4dd2-bfbf-742c307367e3",
   "metadata": {},
   "outputs": [],
   "source": []
  },
  {
   "cell_type": "code",
   "execution_count": null,
   "id": "253bbd3b-14b4-4bca-a97c-3a8122d0565e",
   "metadata": {},
   "outputs": [],
   "source": []
  },
  {
   "cell_type": "code",
   "execution_count": null,
   "id": "5a36b46b-0dcd-4594-9d45-b8b05bc84eb7",
   "metadata": {},
   "outputs": [],
   "source": []
  },
  {
   "cell_type": "code",
   "execution_count": null,
   "id": "ae89dc1a-b34a-437c-b283-962d354feddd",
   "metadata": {},
   "outputs": [],
   "source": []
  },
  {
   "cell_type": "code",
   "execution_count": null,
   "id": "2b14038a-7bcf-40d0-9c0e-bc142a7bbdc1",
   "metadata": {},
   "outputs": [],
   "source": []
  },
  {
   "cell_type": "code",
   "execution_count": null,
   "id": "87c3a9b5-f744-4f40-a141-824292c98813",
   "metadata": {},
   "outputs": [],
   "source": []
  },
  {
   "cell_type": "code",
   "execution_count": null,
   "id": "ddbccd23-84b7-4ed6-bf56-00a0ad0dead8",
   "metadata": {},
   "outputs": [],
   "source": []
  },
  {
   "cell_type": "code",
   "execution_count": null,
   "id": "f7d0dd90-b6f1-4b08-9806-72e5baf7d977",
   "metadata": {},
   "outputs": [],
   "source": []
  },
  {
   "cell_type": "code",
   "execution_count": null,
   "id": "81793eea-984e-42c0-ba76-a98d3c61dfb7",
   "metadata": {},
   "outputs": [],
   "source": []
  },
  {
   "cell_type": "code",
   "execution_count": null,
   "id": "40714dc7-ff04-4025-bdbb-f57ce3cab0cb",
   "metadata": {},
   "outputs": [],
   "source": []
  }
 ],
 "metadata": {
  "kernelspec": {
   "display_name": "Python 3 (ipykernel)",
   "language": "python",
   "name": "python3"
  },
  "language_info": {
   "codemirror_mode": {
    "name": "ipython",
    "version": 3
   },
   "file_extension": ".py",
   "mimetype": "text/x-python",
   "name": "python",
   "nbconvert_exporter": "python",
   "pygments_lexer": "ipython3",
   "version": "3.9.12"
  }
 },
 "nbformat": 4,
 "nbformat_minor": 5
}
